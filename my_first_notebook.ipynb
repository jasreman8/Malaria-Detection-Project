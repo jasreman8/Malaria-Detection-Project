{
 "cells": [
  {
   "cell_type": "code",
   "execution_count": 9,
   "id": "a67580d5",
   "metadata": {},
   "outputs": [
    {
     "name": "stdout",
     "output_type": "stream",
     "text": [
      "Collecting plotly\n",
      "  Downloading plotly-6.0.1-py3-none-any.whl.metadata (6.7 kB)\n",
      "Collecting narwhals>=1.15.1 (from plotly)\n",
      "  Downloading narwhals-1.36.0-py3-none-any.whl.metadata (9.2 kB)\n",
      "Requirement already satisfied: packaging in c:\\users\\nilovnachatterjee\\anaconda3\\envs\\requirements\\lib\\site-packages (from plotly) (25.0)\n",
      "Downloading plotly-6.0.1-py3-none-any.whl (14.8 MB)\n",
      "   ---------------------------------------- 0.0/14.8 MB ? eta -:--:--\n",
      "   - -------------------------------------- 0.5/14.8 MB 15.9 MB/s eta 0:00:01\n",
      "   --- ------------------------------------ 1.2/14.8 MB 15.4 MB/s eta 0:00:01\n",
      "   ----- ---------------------------------- 2.1/14.8 MB 17.0 MB/s eta 0:00:01\n",
      "   -------- ------------------------------- 3.2/14.8 MB 18.7 MB/s eta 0:00:01\n",
      "   ------------ --------------------------- 4.5/14.8 MB 20.8 MB/s eta 0:00:01\n",
      "   ---------------- ----------------------- 6.2/14.8 MB 23.4 MB/s eta 0:00:01\n",
      "   --------------------- ------------------ 8.1/14.8 MB 25.8 MB/s eta 0:00:01\n",
      "   --------------------------- ------------ 10.1/14.8 MB 28.1 MB/s eta 0:00:01\n",
      "   -------------------------------------- - 14.3/14.8 MB 40.9 MB/s eta 0:00:01\n",
      "   ---------------------------------------  14.8/14.8 MB 40.9 MB/s eta 0:00:01\n",
      "   ---------------------------------------  14.8/14.8 MB 40.9 MB/s eta 0:00:01\n",
      "   ---------------------------------------  14.8/14.8 MB 40.9 MB/s eta 0:00:01\n",
      "   ---------------------------------------  14.8/14.8 MB 40.9 MB/s eta 0:00:01\n",
      "   ---------------------------------------- 14.8/14.8 MB 22.6 MB/s eta 0:00:00\n",
      "Downloading narwhals-1.36.0-py3-none-any.whl (331 kB)\n",
      "   ---------------------------------------- 0.0/331.0 kB ? eta -:--:--\n",
      "   --------------------------------------- 331.0/331.0 kB 10.3 MB/s eta 0:00:00\n",
      "Installing collected packages: narwhals, plotly\n",
      "Successfully installed narwhals-1.36.0 plotly-6.0.1\n",
      "Note: you may need to restart the kernel to use updated packages.\n"
     ]
    }
   ],
   "source": [
    "pip install plotly"
   ]
  },
  {
   "cell_type": "code",
   "execution_count": 11,
   "id": "3641dc8b",
   "metadata": {},
   "outputs": [
    {
     "name": "stdout",
     "output_type": "stream",
     "text": [
      "Collecting openpyxl\n",
      "  Downloading openpyxl-3.1.5-py2.py3-none-any.whl.metadata (2.5 kB)\n",
      "Collecting et-xmlfile (from openpyxl)\n",
      "  Downloading et_xmlfile-2.0.0-py3-none-any.whl.metadata (2.7 kB)\n",
      "Downloading openpyxl-3.1.5-py2.py3-none-any.whl (250 kB)\n",
      "   ---------------------------------------- 0.0/250.9 kB ? eta -:--:--\n",
      "   ---------------------------------------- 250.9/250.9 kB 7.8 MB/s eta 0:00:00\n",
      "Downloading et_xmlfile-2.0.0-py3-none-any.whl (18 kB)\n",
      "Installing collected packages: et-xmlfile, openpyxl\n",
      "Successfully installed et-xmlfile-2.0.0 openpyxl-3.1.5\n",
      "Note: you may need to restart the kernel to use updated packages.\n"
     ]
    }
   ],
   "source": [
    "pip install openpyxl"
   ]
  },
  {
   "cell_type": "code",
   "execution_count": 12,
   "id": "c0cebf0d",
   "metadata": {},
   "outputs": [
    {
     "name": "stdout",
     "output_type": "stream",
     "text": [
      "Collecting xlsxwriter\n",
      "  Downloading XlsxWriter-3.2.3-py3-none-any.whl.metadata (2.7 kB)\n",
      "Downloading XlsxWriter-3.2.3-py3-none-any.whl (169 kB)\n",
      "   ---------------------------------------- 0.0/169.4 kB ? eta -:--:--\n",
      "   ---------------------------------------- 169.4/169.4 kB 5.1 MB/s eta 0:00:00\n",
      "Installing collected packages: xlsxwriter\n",
      "Successfully installed xlsxwriter-3.2.3\n",
      "Note: you may need to restart the kernel to use updated packages.\n"
     ]
    }
   ],
   "source": [
    "pip install xlsxwriter"
   ]
  },
  {
   "cell_type": "code",
   "execution_count": null,
   "id": "8e71bf6e",
   "metadata": {},
   "outputs": [],
   "source": []
  }
 ],
 "metadata": {
  "kernelspec": {
   "display_name": "requirements",
   "language": "python",
   "name": "python3"
  },
  "language_info": {
   "codemirror_mode": {
    "name": "ipython",
    "version": 3
   },
   "file_extension": ".py",
   "mimetype": "text/x-python",
   "name": "python",
   "nbconvert_exporter": "python",
   "pygments_lexer": "ipython3",
   "version": "3.12.1"
  }
 },
 "nbformat": 4,
 "nbformat_minor": 5
}
